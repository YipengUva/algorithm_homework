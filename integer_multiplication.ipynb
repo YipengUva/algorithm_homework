{
 "cells": [
  {
   "cell_type": "code",
   "execution_count": 26,
   "metadata": {},
   "outputs": [],
   "source": [
    "x = 1234\n",
    "y = 1234"
   ]
  },
  {
   "cell_type": "code",
   "execution_count": 27,
   "metadata": {},
   "outputs": [],
   "source": [
    "# recusive int mulplication\n",
    "def recmul(x, y):\n",
    "    x = str(x)\n",
    "    y = str(y)\n",
    "    n = len(x)\n",
    "    \n",
    "    if n==1:\n",
    "        return int(x) * int(y)\n",
    "    else:\n",
    "        half_n = n // 2\n",
    "        a = int(x[:half_n])\n",
    "        b = int(x[half_n:])\n",
    "        c = int(y[:half_n])\n",
    "        d = int(y[half_n:])\n",
    "        ac = recmul(a, c)\n",
    "        bd = recmul(b, d)\n",
    "        ad = recmul(a, d)\n",
    "        bc = recmul(b, c)\n",
    "        return (10**n)*ac + (10**half_n)*(ad+bc) + bd \n",
    "    "
   ]
  },
  {
   "cell_type": "code",
   "execution_count": 28,
   "metadata": {},
   "outputs": [
    {
     "data": {
      "text/plain": [
       "1522756"
      ]
     },
     "execution_count": 28,
     "metadata": {},
     "output_type": "execute_result"
    }
   ],
   "source": [
    "# test recusive int multiplication\n",
    "recmul(4, 5)\n",
    "recmul(x, y)"
   ]
  },
  {
   "cell_type": "code",
   "execution_count": 29,
   "metadata": {},
   "outputs": [],
   "source": [
    "# karatsuba int mulplication\n",
    "def karamul(x, y):\n",
    "    x = str(x)\n",
    "    y = str(y)\n",
    "    n = len(x)\n",
    "    \n",
    "    if n==1:\n",
    "        return int(x) * int(y)\n",
    "    else:\n",
    "        half_n = n // 2\n",
    "        a = int(x[:half_n])\n",
    "        b = int(x[half_n:])\n",
    "        c = int(y[:half_n])\n",
    "        d = int(y[half_n:])\n",
    "        ac = karamul(a, c)\n",
    "        bd = karamul(b, d)\n",
    "        p = a + b\n",
    "        q = c + d\n",
    "        pq = karamul(p, q)\n",
    "        adbc = pq - ac - bd\n",
    "        return (10**n)*ac + (10**half_n)*adbc + bd "
   ]
  },
  {
   "cell_type": "code",
   "execution_count": 30,
   "metadata": {},
   "outputs": [
    {
     "data": {
      "text/plain": [
       "1522756"
      ]
     },
     "execution_count": 30,
     "metadata": {},
     "output_type": "execute_result"
    }
   ],
   "source": [
    "# test karatsuba int multiplication\n",
    "karamul(4, 5)\n",
    "karamul(x, y)"
   ]
  },
  {
   "cell_type": "code",
   "execution_count": null,
   "metadata": {},
   "outputs": [],
   "source": []
  }
 ],
 "metadata": {
  "kernelspec": {
   "display_name": "Python 3",
   "language": "python",
   "name": "python3"
  },
  "language_info": {
   "codemirror_mode": {
    "name": "ipython",
    "version": 3
   },
   "file_extension": ".py",
   "mimetype": "text/x-python",
   "name": "python",
   "nbconvert_exporter": "python",
   "pygments_lexer": "ipython3",
   "version": "3.7.3"
  }
 },
 "nbformat": 4,
 "nbformat_minor": 2
}
