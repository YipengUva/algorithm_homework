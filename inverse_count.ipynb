{
 "cells": [
  {
   "cell_type": "code",
   "execution_count": 1,
   "metadata": {},
   "outputs": [],
   "source": [
    "C = [1, 3, 5]; D = [2, 4, 6];"
   ]
  },
  {
   "cell_type": "code",
   "execution_count": 2,
   "metadata": {},
   "outputs": [],
   "source": [
    "def merge_splitInv(C, D):\n",
    "    i = 0\n",
    "    j = 0\n",
    "    splitInv = 0\n",
    "    n = len(C) + len(D)\n",
    "    B = [None]*n\n",
    "    \n",
    "    for k in range(n):\n",
    "        if C[i] < D[j]:\n",
    "            B[k] = C[i]\n",
    "            i += 1\n",
    "        else:\n",
    "            B[k] = D[j]\n",
    "            j += 1\n",
    "            splitInv += n//2 - i\n",
    "        if i == len(C):\n",
    "            B[(k+1):] = D[(j):]\n",
    "            break\n",
    "        elif j == len(D):\n",
    "            B[(k+1):] = C[(i):]\n",
    "            break\n",
    "    return B, splitInv\n",
    "                  "
   ]
  },
  {
   "cell_type": "code",
   "execution_count": 3,
   "metadata": {},
   "outputs": [
    {
     "name": "stdout",
     "output_type": "stream",
     "text": [
      "[1, 2, 3, 4, 5, 6]\n",
      "3\n"
     ]
    }
   ],
   "source": [
    "B, splitInv = merge_splitInv(C, D)\n",
    "print(B)\n",
    "print(splitInv)"
   ]
  },
  {
   "cell_type": "code",
   "execution_count": 4,
   "metadata": {},
   "outputs": [],
   "source": [
    "def sort_countInv(A):\n",
    "    n = len(A)\n",
    "    half_n = n//2\n",
    "    countInv = 0\n",
    "    if n <= 1:\n",
    "        return A, countInv\n",
    "    else:\n",
    "        C, leftInv = sort_countInv(A[:half_n])\n",
    "        #print('C: {}'.format(C))        \n",
    "        D, rightInv = sort_countInv(A[half_n:])\n",
    "        #print('D: {}'.format(D))\n",
    "        B, splitInv = merge_splitInv(C, D)\n",
    "        countInv += (leftInv + rightInv + splitInv)\n",
    "        return B, countInv"
   ]
  },
  {
   "cell_type": "code",
   "execution_count": 5,
   "metadata": {},
   "outputs": [
    {
     "name": "stdout",
     "output_type": "stream",
     "text": [
      "[1, 3, 5, 2, 4, 6]\n"
     ]
    }
   ],
   "source": [
    "A = C + D\n",
    "print(A)"
   ]
  },
  {
   "cell_type": "code",
   "execution_count": 6,
   "metadata": {},
   "outputs": [],
   "source": [
    "B, countInv = sort_countInv(A)"
   ]
  },
  {
   "cell_type": "code",
   "execution_count": 7,
   "metadata": {},
   "outputs": [
    {
     "name": "stdout",
     "output_type": "stream",
     "text": [
      "[1, 2, 3, 4, 5, 6]\n",
      "3\n"
     ]
    }
   ],
   "source": [
    "print(B)\n",
    "print(countInv)"
   ]
  },
  {
   "cell_type": "code",
   "execution_count": 8,
   "metadata": {},
   "outputs": [],
   "source": [
    "A = [6, 5, 4, 3, 2, 1]\n",
    "B, countInv = sort_countInv(A)\n"
   ]
  },
  {
   "cell_type": "code",
   "execution_count": 9,
   "metadata": {},
   "outputs": [
    {
     "name": "stdout",
     "output_type": "stream",
     "text": [
      "[1, 2, 3, 4, 5, 6]\n",
      "15\n"
     ]
    }
   ],
   "source": [
    "print(B)\n",
    "print(countInv)\n"
   ]
  },
  {
   "cell_type": "code",
   "execution_count": 10,
   "metadata": {},
   "outputs": [],
   "source": [
    "f = open(\"IntegerArray.txt\")\n",
    "int_strings = f.readlines()\n",
    "f.close()"
   ]
  },
  {
   "cell_type": "code",
   "execution_count": 11,
   "metadata": {},
   "outputs": [
    {
     "name": "stdout",
     "output_type": "stream",
     "text": [
      "['54044\\n', '14108\\n', '79294\\n', '29649\\n', '25260\\n', '60660\\n', '2995\\n', '53777\\n', '49689\\n', '9083\\n']\n"
     ]
    }
   ],
   "source": [
    "print(int_strings[:10])"
   ]
  },
  {
   "cell_type": "code",
   "execution_count": 13,
   "metadata": {},
   "outputs": [],
   "source": [
    "int_strings = ''.join(int_strings)"
   ]
  },
  {
   "cell_type": "code",
   "execution_count": 14,
   "metadata": {},
   "outputs": [],
   "source": [
    "int_array = int_strings.split('\\n')"
   ]
  },
  {
   "cell_type": "code",
   "execution_count": 15,
   "metadata": {},
   "outputs": [
    {
     "name": "stdout",
     "output_type": "stream",
     "text": [
      "100001\n",
      "['54044', '14108', '79294', '29649', '25260', '60660', '2995', '53777', '49689', '9083']\n"
     ]
    }
   ],
   "source": [
    "print(len(int_array))\n",
    "print(int_array[:10])"
   ]
  },
  {
   "cell_type": "code",
   "execution_count": 20,
   "metadata": {},
   "outputs": [
    {
     "name": "stdout",
     "output_type": "stream",
     "text": [
      "54044\n",
      "\n"
     ]
    }
   ],
   "source": [
    "print(int_array[0])\n",
    "print(int_array[len(int_array)-1])"
   ]
  },
  {
   "cell_type": "code",
   "execution_count": 22,
   "metadata": {},
   "outputs": [
    {
     "name": "stdout",
     "output_type": "stream",
     "text": [
      "91901\n"
     ]
    }
   ],
   "source": [
    "int_array = int_array[:len(int_array)-1]\n",
    "print(int_array[len(int_array)-1])\n"
   ]
  },
  {
   "cell_type": "code",
   "execution_count": 23,
   "metadata": {},
   "outputs": [
    {
     "data": {
      "text/plain": [
       "100000"
      ]
     },
     "execution_count": 23,
     "metadata": {},
     "output_type": "execute_result"
    }
   ],
   "source": [
    "len(int_array)"
   ]
  },
  {
   "cell_type": "code",
   "execution_count": 24,
   "metadata": {},
   "outputs": [],
   "source": [
    "int_array = [int(ele) for ele in int_array]"
   ]
  },
  {
   "cell_type": "code",
   "execution_count": 25,
   "metadata": {},
   "outputs": [
    {
     "name": "stdout",
     "output_type": "stream",
     "text": [
      "100000\n",
      "[54044, 14108, 79294, 29649, 25260, 60660, 2995, 53777, 49689, 9083]\n"
     ]
    }
   ],
   "source": [
    "print(len(int_array))\n",
    "print(int_array[:10])"
   ]
  },
  {
   "cell_type": "code",
   "execution_count": 26,
   "metadata": {},
   "outputs": [],
   "source": [
    "B, countInv = sort_countInv(int_array)"
   ]
  },
  {
   "cell_type": "code",
   "execution_count": 27,
   "metadata": {},
   "outputs": [
    {
     "data": {
      "text/plain": [
       "2407905288"
      ]
     },
     "execution_count": 27,
     "metadata": {},
     "output_type": "execute_result"
    }
   ],
   "source": [
    "countInv"
   ]
  },
  {
   "cell_type": "code",
   "execution_count": null,
   "metadata": {},
   "outputs": [],
   "source": []
  },
  {
   "cell_type": "code",
   "execution_count": null,
   "metadata": {},
   "outputs": [],
   "source": []
  },
  {
   "cell_type": "code",
   "execution_count": null,
   "metadata": {},
   "outputs": [],
   "source": []
  },
  {
   "cell_type": "code",
   "execution_count": null,
   "metadata": {},
   "outputs": [],
   "source": []
  },
  {
   "cell_type": "code",
   "execution_count": null,
   "metadata": {},
   "outputs": [],
   "source": [
    "# split function\n",
    "def split(input_list):\n",
    "    n = len(input_list)\n",
    "    half_n = n // 2\n",
    "    \n",
    "    return A[:half_n], A[half_n:]"
   ]
  },
  {
   "cell_type": "code",
   "execution_count": null,
   "metadata": {},
   "outputs": [],
   "source": [
    "def merge(C, D):\n",
    "    if len(C) == 0:\n",
    "        return D\n",
    "    elif len(D) == 0:\n",
    "        return C\n",
    "    \n",
    "    n = len(C) + len(D)\n",
    "    i = 0\n",
    "    j = 0\n",
    "    out = []\n",
    "    \n",
    "    while len(out) < n:\n",
    "        if C[i] <= D[j]:\n",
    "            out.append(C[i])\n",
    "            i += 1\n",
    "            #print('i: {}'.format(i))\n",
    "        else:\n",
    "            out.append(D[j])\n",
    "            j += 1\n",
    "            #print('j: {}'.format(j))\n",
    "        if i == len(C):\n",
    "            out += D[j:]\n",
    "            break\n",
    "        elif j == len(D):\n",
    "            out += D[i:]\n",
    "            break\n",
    "    return out        \n",
    "    "
   ]
  },
  {
   "cell_type": "code",
   "execution_count": null,
   "metadata": {},
   "outputs": [],
   "source": [
    "C, D = split(A)\n",
    "C, D"
   ]
  },
  {
   "cell_type": "code",
   "execution_count": null,
   "metadata": {},
   "outputs": [],
   "source": [
    "merge([1, 5, 10], [2, 4, 12])"
   ]
  },
  {
   "cell_type": "code",
   "execution_count": null,
   "metadata": {},
   "outputs": [],
   "source": [
    "# merge sort\n",
    "def merge_sort(input_list):\n",
    "    if len(input_list) <= 1:\n",
    "        return input_list\n",
    "    else:\n",
    "        left, right = split(input_list)\n",
    "        return merge(merge_sort(left), merge_sort(right))\n",
    "\n"
   ]
  },
  {
   "cell_type": "code",
   "execution_count": null,
   "metadata": {},
   "outputs": [],
   "source": [
    "mergeSort(A)"
   ]
  }
 ],
 "metadata": {
  "kernelspec": {
   "display_name": "Python 3",
   "language": "python",
   "name": "python3"
  },
  "language_info": {
   "codemirror_mode": {
    "name": "ipython",
    "version": 3
   },
   "file_extension": ".py",
   "mimetype": "text/x-python",
   "name": "python",
   "nbconvert_exporter": "python",
   "pygments_lexer": "ipython3",
   "version": "3.7.3"
  }
 },
 "nbformat": 4,
 "nbformat_minor": 2
}
